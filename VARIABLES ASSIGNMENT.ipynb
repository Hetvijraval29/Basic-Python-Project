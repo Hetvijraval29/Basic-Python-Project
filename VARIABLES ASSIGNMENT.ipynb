{
 "cells": [
  {
   "cell_type": "code",
   "execution_count": 1,
   "id": "783c97a6",
   "metadata": {},
   "outputs": [
    {
     "name": "stdout",
     "output_type": "stream",
     "text": [
      "25.0\n"
     ]
    }
   ],
   "source": [
    "#1. Write a python program to calculate the area of a rectangle given its length and width.\n",
    "l=10\n",
    "b=2.5\n",
    "area=l*b\n",
    "print(area)"
   ]
  },
  {
   "cell_type": "code",
   "execution_count": 2,
   "id": "ec654114",
   "metadata": {},
   "outputs": [
    {
     "name": "stdout",
     "output_type": "stream",
     "text": [
      "Enter a name: Hetvi\n",
      "Enter a birth year: 2002\n",
      "Hi Hetvi, today you are 22 years old. Welcome!\n"
     ]
    }
   ],
   "source": [
    "#2. Create a Program that takes a user's name and birth year as input and prints a greeting message.\n",
    "name = input(\"Enter a name: \")\n",
    "birth_year = int(input(\"Enter a birth year: \"))\n",
    "current_year = 2024\n",
    "age = current_year - birth_year\n",
    "print(\"Hi\", name + \",\", \"today you are\", age, \"years old. Welcome!\")"
   ]
  },
  {
   "cell_type": "code",
   "execution_count": 6,
   "id": "fbe3b151",
   "metadata": {},
   "outputs": [
    {
     "name": "stdout",
     "output_type": "stream",
     "text": [
      "Enter a principal10000\n",
      "Enter a rate10\n",
      "Enter a time1\n",
      "Enter a year2\n",
      "350000.0\n"
     ]
    }
   ],
   "source": [
    "#3. Calculate the compound interest for a given principal amount, interest rate and time period.\n",
    "principal = float(input('Enter a principal'))\n",
    "rate = float(input('Enter a rate')) \n",
    "time = float(input('Enter a time'))\n",
    "compounds = float(input('Enter a year'))\n",
    "amount = principal * (1 + rate / compounds) ** (compounds * time)\n",
    "interest = amount - principal\n",
    "print(interest)"
   ]
  },
  {
   "cell_type": "code",
   "execution_count": null,
   "id": "c645ce90",
   "metadata": {},
   "outputs": [],
   "source": [
    "#4. Implement a program that swaps the values of two variables with the help of third variable."
   ]
  },
  {
   "cell_type": "code",
   "execution_count": 8,
   "id": "4b94092a",
   "metadata": {},
   "outputs": [
    {
     "data": {
      "text/plain": [
       "27"
      ]
     },
     "execution_count": 8,
     "metadata": {},
     "output_type": "execute_result"
    }
   ],
   "source": [
    "#5. Write a Python Program to calculate cube of the number\n",
    "a=3\n",
    "b=a**3\n",
    "b"
   ]
  },
  {
   "cell_type": "code",
   "execution_count": 9,
   "id": "fb16c995",
   "metadata": {},
   "outputs": [
    {
     "name": "stdout",
     "output_type": "stream",
     "text": [
      "Enter your namea\n",
      "Enter your age10\n",
      "Enter your score50\n"
     ]
    }
   ],
   "source": [
    "#6. Create variables for storing a Person's name, age and average test score\n",
    "name=input('Enter your name')\n",
    "age=input('Enter your age')\n",
    "score=input('Enter your score')"
   ]
  },
  {
   "cell_type": "code",
   "execution_count": 11,
   "id": "a09dac32",
   "metadata": {},
   "outputs": [
    {
     "name": "stdout",
     "output_type": "stream",
     "text": [
      "Enter temperature in Celsius: 35\n",
      "Temperature in Kelvin: 308.15\n"
     ]
    }
   ],
   "source": [
    "#7. Create a Program that takes a temperature in Celcius and converts it to Kelvin.\n",
    "celsius = float(input(\"Enter temperature in Celsius: \"))\n",
    "kelvin = celsius + 273.15\n",
    "print(\"Temperature in Kelvin:\", kelvin)\n"
   ]
  },
  {
   "cell_type": "code",
   "execution_count": 12,
   "id": "7eaff54b",
   "metadata": {},
   "outputs": [
    {
     "name": "stdout",
     "output_type": "stream",
     "text": [
      "Enter the radius of the circle: 10\n",
      "314.0 62.800000000000004\n"
     ]
    }
   ],
   "source": [
    "#8. Calculate the area and circumference of a circle given its radius.\n",
    "radius = float(input(\"Enter the radius of the circle: \"))\n",
    "area = 3.14 * radius ** 2\n",
    "circumference = 2 * 3.14 * radius\n",
    "print(area,circumference)"
   ]
  },
  {
   "cell_type": "code",
   "execution_count": 13,
   "id": "293b0b93",
   "metadata": {},
   "outputs": [
    {
     "name": "stdout",
     "output_type": "stream",
     "text": [
      "Enter the number of minutes: 100\n",
      "100 Minutes is equal to 1 Hours 40 Minutes\n"
     ]
    }
   ],
   "source": [
    "#9. Implement a Program that converts a given number of minutes into hours and minutes.\n",
    "minutes = int(input(\"Enter the number of minutes: \"))\n",
    "hours = minutes // 60\n",
    "remaining_minutes = minutes % 60\n",
    "print(f\"{minutes} Minutes is equal to {hours} Hours {remaining_minutes} Minutes\")\n"
   ]
  },
  {
   "cell_type": "code",
   "execution_count": 14,
   "id": "18c1b7a6",
   "metadata": {},
   "outputs": [
    {
     "name": "stdout",
     "output_type": "stream",
     "text": [
      "Enter the number of days: 200\n",
      "200 Days is equal to 0 Years, 28 Weeks, and 4 Days\n"
     ]
    }
   ],
   "source": [
    "#10. Write a Program that converts a given number of days into years, weeks, and days.\n",
    "days = int(input(\"Enter the number of days: \"))\n",
    "years = days // 365\n",
    "remaining_days = days % 365\n",
    "weeks = remaining_days // 7\n",
    "remaining_days %= 7\n",
    "print(f\"{days} Days is equal to {years} Years, {weeks} Weeks, and {remaining_days} Days\")"
   ]
  },
  {
   "cell_type": "code",
   "execution_count": null,
   "id": "fbc0109d",
   "metadata": {},
   "outputs": [],
   "source": [
    "#11. Implement a program that swaps the values of two variables without using 3rd variable."
   ]
  },
  {
   "cell_type": "code",
   "execution_count": 15,
   "id": "a6889116",
   "metadata": {},
   "outputs": [
    {
     "name": "stdout",
     "output_type": "stream",
     "text": [
      "<class 'float'>\n",
      "<class 'float'>\n",
      "<class 'str'>\n",
      "<class 'str'>\n",
      "<class 'str'>\n",
      "<class 'bool'>\n",
      "<class 'complex'>\n",
      "<class 'int'>\n",
      "<class 'str'>\n"
     ]
    }
   ],
   "source": [
    "#12. Write a Program to check the data type of below variables:\n",
    "a = 1.90       \n",
    "b = 5/45\n",
    "c = \"DSA\"\n",
    "d = 'Amir'\n",
    "e = 'True'\n",
    "f = True\n",
    "g = 7 + 2j\n",
    "h = 3712332\n",
    "i = '2023-08-04'\n",
    "print(type(a))  \n",
    "print(type(b))  \n",
    "print(type(c)) \n",
    "print(type(d)) \n",
    "print(type(e)) \n",
    "print(type(f))  \n",
    "print(type(g))  \n",
    "print(type(h)) \n",
    "print(type(i)) "
   ]
  }
 ],
 "metadata": {
  "kernelspec": {
   "display_name": "Python 3 (ipykernel)",
   "language": "python",
   "name": "python3"
  },
  "language_info": {
   "codemirror_mode": {
    "name": "ipython",
    "version": 3
   },
   "file_extension": ".py",
   "mimetype": "text/x-python",
   "name": "python",
   "nbconvert_exporter": "python",
   "pygments_lexer": "ipython3",
   "version": "3.11.3"
  }
 },
 "nbformat": 4,
 "nbformat_minor": 5
}
