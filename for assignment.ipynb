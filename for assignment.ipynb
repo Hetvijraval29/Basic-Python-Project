{
 "cells": [
  {
   "cell_type": "code",
   "execution_count": 7,
   "id": "47dd6dba",
   "metadata": {},
   "outputs": [
    {
     "name": "stdout",
     "output_type": "stream",
     "text": [
      "1\n",
      "2\n",
      "3\n",
      "4\n",
      "5\n",
      "6\n",
      "7\n",
      "8\n",
      "9\n",
      "10\n"
     ]
    }
   ],
   "source": [
    "#1. Print first 10 numbers using a for loop\n",
    "for i in range(1, 11):\n",
    "    print(i)"
   ]
  },
  {
   "cell_type": "code",
   "execution_count": 9,
   "id": "197e99a5",
   "metadata": {},
   "outputs": [
    {
     "name": "stdout",
     "output_type": "stream",
     "text": [
      "[1, 4, 9, 16, 25, 36, 49, 64, 81, 100, 121, 144, 169, 196, 225, 256, 289, 324, 361, 400, 441, 484, 529, 576, 625, 676, 729, 784, 841, 900, 961, 1024, 1089, 1156, 1225, 1296, 1369, 1444, 1521, 1600, 1681, 1764, 1849, 1936, 2025, 2116, 2209, 2304, 2401, 2500, 2601, 2704, 2809, 2916, 3025, 3136, 3249, 3364, 3481, 3600, 3721, 3844, 3969, 4096, 4225, 4356, 4489, 4624, 4761, 4900, 5041, 5184, 5329, 5476, 5625, 5776, 5929, 6084, 6241, 6400, 6561, 6724, 6889, 7056, 7225, 7396, 7569, 7744, 7921, 8100, 8281, 8464, 8649, 8836, 9025, 9216, 9409, 9604, 9801, 10000]\n"
     ]
    }
   ],
   "source": [
    "#2.Calculate the square of each number of list of 1-100 numbers\n",
    "squares=[i**2 for i in range(1,101)]\n",
    "print(squares)"
   ]
  },
  {
   "cell_type": "code",
   "execution_count": 11,
   "id": "488a0572",
   "metadata": {},
   "outputs": [
    {
     "name": "stdout",
     "output_type": "stream",
     "text": [
      "2450\n"
     ]
    }
   ],
   "source": [
    "#3. Calculate the sum of all even numbers from 1-100\n",
    "even=sum(i for i in range(0,100,2))\n",
    "print(even)"
   ]
  },
  {
   "cell_type": "code",
   "execution_count": 14,
   "id": "e61abb7a",
   "metadata": {},
   "outputs": [
    {
     "name": "stdout",
     "output_type": "stream",
     "text": [
      "Enter a number:10\n",
      "10 x 1 = 10\n",
      "10 x 2 = 20\n",
      "10 x 3 = 30\n",
      "10 x 4 = 40\n",
      "10 x 5 = 50\n",
      "10 x 6 = 60\n",
      "10 x 7 = 70\n",
      "10 x 8 = 80\n",
      "10 x 9 = 90\n",
      "10 x 10 = 100\n"
     ]
    }
   ],
   "source": [
    "#4. Write a Program to print the table of the number entered by user\n",
    "entered_number=int(input(\"Enter a number:\"))\n",
    "for i in range(1,11):\n",
    "    print(entered_number,\"x\",i,\"=\",entered_number*i)"
   ]
  },
  {
   "cell_type": "code",
   "execution_count": 21,
   "id": "8935a1a1",
   "metadata": {},
   "outputs": [
    {
     "name": "stdout",
     "output_type": "stream",
     "text": [
      "Enter a number:5\n",
      "120\n"
     ]
    }
   ],
   "source": [
    "#5. Write a Program to find the factorial of the number entered by user:\n",
    "number=int(input(\"Enter a number:\"))\n",
    "count=1\n",
    "for i in range(number,1,-1):\n",
    "    count*=i\n",
    "print(count)"
   ]
  },
  {
   "cell_type": "code",
   "execution_count": 23,
   "id": "56c05af6",
   "metadata": {},
   "outputs": [
    {
     "name": "stdout",
     "output_type": "stream",
     "text": [
      "Enter a number:10\n",
      "10 is not prime\n"
     ]
    }
   ],
   "source": [
    "#6. Write a Program to check if the number is prime or not (Hint: Prime number is divisble by 1 and the number itself!)\n",
    "num=int(input(\"Enter a number:\"))\n",
    "is_prime=True\n",
    "if num<=1:\n",
    "    is_prime = False\n",
    "else:\n",
    "    for i in range(2, int(num**0.5) + 1):\n",
    "        if num % i == 0:\n",
    "            is_prime = False\n",
    "            break\n",
    "print(num, \"is prime\" if is_prime else \"is not prime\")\n"
   ]
  },
  {
   "cell_type": "code",
   "execution_count": 25,
   "id": "112ac221",
   "metadata": {},
   "outputs": [
    {
     "name": "stdout",
     "output_type": "stream",
     "text": [
      "325\n"
     ]
    }
   ],
   "source": [
    "#7. Write a Program to print sum of all odd number between 12 and 37 (12 and 37 included)\n",
    "sum_odd=sum(i for i in range(13,38,2))\n",
    "print(sum_odd)"
   ]
  },
  {
   "cell_type": "code",
   "execution_count": 1,
   "id": "1a4e5c13",
   "metadata": {},
   "outputs": [
    {
     "name": "stdout",
     "output_type": "stream",
     "text": [
      "Enter a number6\n",
      "6 is a perfect\n"
     ]
    }
   ],
   "source": [
    "#8. Write a Program to find whether the number entered by user is perfect number or not (Hint: Perfect number is the number where the divisors sum is the number itself!)\n",
    "number=int(input(\"Enter a number\"))\n",
    "divsum=sum(i for i in range(1,number)if number%i==0)\n",
    "print(number, \"is a perfect\" if divsum==number else \"is not a perfect\")"
   ]
  },
  {
   "cell_type": "code",
   "execution_count": 3,
   "id": "c69219b0",
   "metadata": {},
   "outputs": [
    {
     "name": "stdout",
     "output_type": "stream",
     "text": [
      "Enter (a): 2\n",
      "Enter (r): 3\n",
      "Enter (n): 4\n",
      "Sum of the series: 80\n"
     ]
    }
   ],
   "source": [
    "#9. Write a Program to find the sum of following (accepted values a,r and n from user)\n",
    "#a + ar + ar2 + ar3 + .... + arn\n",
    "a = int(input(\"Enter (a): \"))\n",
    "r = int(input(\"Enter (r): \"))\n",
    "n = int(input(\"Enter (n): \"))\n",
    "total = 0\n",
    "for i in range(n):\n",
    "    total += a * (r ** i)\n",
    "print(\"Sum of the series:\", total)\n"
   ]
  },
  {
   "cell_type": "code",
   "execution_count": 6,
   "id": "52f672b2",
   "metadata": {},
   "outputs": [
    {
     "name": "stdout",
     "output_type": "stream",
     "text": [
      "Enter a string: help\n",
      "Enter the suffix to append: ful\n",
      "new string: helpful\n"
     ]
    }
   ],
   "source": [
    "#10. Write a Program in python to append suffix in each word of the string.\n",
    "#I/P: \"Play Work Sleep Eat\"\n",
    "#O/P: \"Playing Working Sleeping Eating\"\n",
    "string = input(\"Enter a string: \")\n",
    "suf = input(\"Enter the suffix to append: \")\n",
    "words = string.split()\n",
    "string1 = ' '.join([i + suf for i in words])\n",
    "print(\"new string:\", string1)\n"
   ]
  },
  {
   "cell_type": "code",
   "execution_count": 7,
   "id": "425c48e9",
   "metadata": {},
   "outputs": [
    {
     "name": "stdout",
     "output_type": "stream",
     "text": [
      "Fibonacci series up to 10 terms: [1, 2, 3, 5, 8, 13, 21, 34, 55, 89]\n"
     ]
    }
   ],
   "source": [
    "#11. Display Fibonacci series up to 10 terms\n",
    "fib = [1, 2]\n",
    "for i in range(2, 10):\n",
    "    a = fib[-1] + fib[-2]\n",
    "    fib.append(a)\n",
    "print(\"Fibonacci series up to 10 terms:\", fib)\n"
   ]
  },
  {
   "cell_type": "code",
   "execution_count": 8,
   "id": "fd71e395",
   "metadata": {},
   "outputs": [
    {
     "name": "stdout",
     "output_type": "stream",
     "text": [
      "Enter a number: 25\n",
      "Cubes of numbers from 1 to 25 : [1, 8, 27, 64, 125, 216, 343, 512, 729, 1000, 1331, 1728, 2197, 2744, 3375, 4096, 4913, 5832, 6859, 8000, 9261, 10648, 12167, 13824, 15625]\n"
     ]
    }
   ],
   "source": [
    "#12. Calculate the cube of all numbers from 1 to a given number\n",
    "num = int(input(\"Enter a number: \"))\n",
    "a = [i ** 3 for i in range(1, num + 1)]\n",
    "print(\"Cubes of numbers from 1 to\", num, \":\", a)\n"
   ]
  },
  {
   "cell_type": "code",
   "execution_count": 9,
   "id": "03e35517",
   "metadata": {},
   "outputs": [
    {
     "name": "stdout",
     "output_type": "stream",
     "text": [
      "-10\n",
      "-9\n",
      "-8\n",
      "-7\n",
      "-6\n",
      "-5\n",
      "-4\n",
      "-3\n",
      "-2\n",
      "-1\n"
     ]
    }
   ],
   "source": [
    "#13. Display numbers from -10 to -1 using for loop\n",
    "for i in range(-10, 0):\n",
    "    print(i)"
   ]
  },
  {
   "cell_type": "code",
   "execution_count": 11,
   "id": "5ef96af7",
   "metadata": {},
   "outputs": [
    {
     "name": "stdout",
     "output_type": "stream",
     "text": [
      "Enter a number: 12345\n",
      "5\n"
     ]
    }
   ],
   "source": [
    "#14. Count the total number of digits in a number\n",
    "num = int(input(\"Enter a number: \"))\n",
    "a = str(num)\n",
    "b = len(a)\n",
    "print(b)\n"
   ]
  },
  {
   "cell_type": "code",
   "execution_count": 12,
   "id": "8271e34d",
   "metadata": {},
   "outputs": [
    {
     "name": "stdout",
     "output_type": "stream",
     "text": [
      "0\n",
      "1\n",
      "2\n",
      "3\n",
      "4\n",
      "Done!\n"
     ]
    }
   ],
   "source": [
    "#15. Print \"Done\" after successful execution of for loop\n",
    "#Sample O/P:\n",
    "#0\n",
    "#1\n",
    "#2\n",
    "#3\n",
    "#Done!\n",
    "for i in range(5):\n",
    "    print(i)\n",
    "print(\"Done!\")"
   ]
  },
  {
   "cell_type": "code",
   "execution_count": 13,
   "id": "01439f7d",
   "metadata": {},
   "outputs": [
    {
     "name": "stdout",
     "output_type": "stream",
     "text": [
      "Enter a number: 5\n",
      "Cubes of numbers from 1 to 5 : [1, 8, 27, 64, 125]\n"
     ]
    }
   ],
   "source": [
    "#16. Calculate the cube of all numbers from 1 to a given number\n",
    "num = int(input(\"Enter a number: \"))\n",
    "a = [i ** 3 for i in range(1, num + 1)]\n",
    "print(\"Cubes of numbers from 1 to\", num, \":\", a)\n"
   ]
  },
  {
   "cell_type": "code",
   "execution_count": null,
   "id": "5abe1b7b",
   "metadata": {},
   "outputs": [],
   "source": [
    "#17. Write a Program to check if a given string is a pangram. (contains all letters of the alphabet)\n"
   ]
  },
  {
   "cell_type": "code",
   "execution_count": 14,
   "id": "6580e291",
   "metadata": {},
   "outputs": [
    {
     "name": "stdout",
     "output_type": "stream",
     "text": [
      "Names starting with 'A':\n",
      "Alice\n",
      "Anna\n",
      "Alex\n",
      "Amanda\n"
     ]
    }
   ],
   "source": [
    "#18. Given a list of names, print all names starting with the letter 'A'\n",
    "list1 = [\"Alice\", \"Bob\", \"Anna\", \"Alex\", \"David\", \"Amanda\"]\n",
    "print(\"Names starting with 'A':\")\n",
    "for i in list1:\n",
    "    if i[0].lower() == 'a':\n",
    "        print(i)\n"
   ]
  },
  {
   "cell_type": "code",
   "execution_count": 15,
   "id": "94c86e1d",
   "metadata": {},
   "outputs": [
    {
     "name": "stdout",
     "output_type": "stream",
     "text": [
      "Prime numbers between 1 and 50:\n",
      "2\n",
      "3\n",
      "5\n",
      "7\n",
      "11\n",
      "13\n",
      "17\n",
      "19\n",
      "23\n",
      "29\n",
      "31\n",
      "37\n",
      "41\n",
      "43\n",
      "47\n"
     ]
    }
   ],
   "source": [
    "#19. Create a loop that prints all prime numbers between 1 and 50.\n",
    "print(\"Prime numbers between 1 and 50:\")\n",
    "for num in range(2, 51):\n",
    "    a = True\n",
    "    for i in range(2, num):\n",
    "        if num % i == 0:\n",
    "            a = False\n",
    "            break\n",
    "    if a:\n",
    "        print(num)\n"
   ]
  },
  {
   "cell_type": "code",
   "execution_count": 16,
   "id": "5d2ae3dd",
   "metadata": {},
   "outputs": [
    {
     "name": "stdout",
     "output_type": "stream",
     "text": [
      "3\n"
     ]
    }
   ],
   "source": [
    "#20. Given a list of words, count the number of words with more than 5 characters.\n",
    "words = [\"frido\", \"jayesh\", \"bina\", \"kardamsharma\", \"pooja\", \"purvanshi\", \"hetvi\"]\n",
    "count = 0\n",
    "for i in words:\n",
    "    if len(i) > 5:\n",
    "        count += 1\n",
    "print( count)\n"
   ]
  },
  {
   "cell_type": "code",
   "execution_count": 17,
   "id": "4bd2db47",
   "metadata": {},
   "outputs": [
    {
     "name": "stdout",
     "output_type": "stream",
     "text": [
      "15\n"
     ]
    }
   ],
   "source": [
    "#21. Calculate the sum of all digits given in a string format\n",
    "s = \"12345\"\n",
    "a = sum(int(i) for i in s)\n",
    "print(a)\n"
   ]
  }
 ],
 "metadata": {
  "kernelspec": {
   "display_name": "Python 3 (ipykernel)",
   "language": "python",
   "name": "python3"
  },
  "language_info": {
   "codemirror_mode": {
    "name": "ipython",
    "version": 3
   },
   "file_extension": ".py",
   "mimetype": "text/x-python",
   "name": "python",
   "nbconvert_exporter": "python",
   "pygments_lexer": "ipython3",
   "version": "3.11.3"
  }
 },
 "nbformat": 4,
 "nbformat_minor": 5
}
