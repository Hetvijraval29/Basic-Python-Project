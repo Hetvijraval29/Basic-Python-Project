{
 "cells": [
  {
   "cell_type": "code",
   "execution_count": 1,
   "id": "3cd5cf06",
   "metadata": {},
   "outputs": [
    {
     "name": "stdout",
     "output_type": "stream",
     "text": [
      "Enter a Number: 6\n",
      "6 is even number\n"
     ]
    }
   ],
   "source": [
    "#1. Python Program to check if a number entered by user is odd or even:\n",
    "number = int(input(\"Enter a Number: \"))\n",
    "if number % 2 == 0:\n",
    "    print(number, \"is even number\")\n",
    "else:\n",
    "    print(number, \"is odd number\")"
   ]
  },
  {
   "cell_type": "code",
   "execution_count": 2,
   "id": "3fb22bd0",
   "metadata": {},
   "outputs": [
    {
     "name": "stdout",
     "output_type": "stream",
     "text": [
      "Enter a Number: 65\n",
      "65 is not a prime number\n"
     ]
    }
   ],
   "source": [
    "#2. Python Program to check if a number entered by user is prime or not:\n",
    "number = int(input(\"Enter a Number: \"))\n",
    "if number > 1:\n",
    "    for i in range(2, int(number/2)+1):\n",
    "        if (number % i) == 0:\n",
    "            print(number, \"is not a prime number\")\n",
    "            break\n",
    "    else:\n",
    "        print(number, \"is a prime number\")\n",
    "else:\n",
    "    print(number, \"is not a prime number\")"
   ]
  },
  {
   "cell_type": "code",
   "execution_count": 3,
   "id": "102da3f2",
   "metadata": {},
   "outputs": [
    {
     "name": "stdout",
     "output_type": "stream",
     "text": [
      "Enter a string: nurse\n",
      "nurse is not palindrome\n"
     ]
    }
   ],
   "source": [
    "#3. Python Program to check whether the given string is palindrome or not:\n",
    "string = input(\"Enter a string: \")\n",
    "if string == string[::-1]:\n",
    "    print(string, \"is palindrome\")\n",
    "else:\n",
    "    print(string, \"is not palindrome\")"
   ]
  },
  {
   "cell_type": "code",
   "execution_count": 4,
   "id": "6613ab9d",
   "metadata": {},
   "outputs": [
    {
     "name": "stdout",
     "output_type": "stream",
     "text": [
      "Enter a sentence: Hey I am a student\n",
      "Number of words: 5\n"
     ]
    }
   ],
   "source": [
    "#4. Python Program to count the number of words in a sentence:\n",
    "sentence = input(\"Enter a sentence: \")\n",
    "words = len(sentence.split())\n",
    "print(\"Number of words:\", words)\n"
   ]
  },
  {
   "cell_type": "code",
   "execution_count": 5,
   "id": "a33b19e4",
   "metadata": {},
   "outputs": [
    {
     "name": "stdout",
     "output_type": "stream",
     "text": [
      "Orange Apple Banana\n"
     ]
    }
   ],
   "source": [
    "#5. Python Program to concatenate a list of fruits into a single string separated by spaces:\n",
    "fruits = [\"Orange\", \"Apple\", \"Banana\"]\n",
    "concatenated = ' '.join(fruits)\n",
    "print(concatenated)"
   ]
  },
  {
   "cell_type": "code",
   "execution_count": 6,
   "id": "2a0041db",
   "metadata": {},
   "outputs": [
    {
     "name": "stdout",
     "output_type": "stream",
     "text": [
      "Enter a year: 366\n",
      "366 is not a leap year\n"
     ]
    }
   ],
   "source": [
    "#6. Python Program to check if a year entered by user is a leap year or not:\n",
    "year = int(input(\"Enter a year: \"))\n",
    "if (year % 4 == 0 and year % 100 != 0) or (year % 400 == 0):\n",
    "    print(year, \"is a leap year\")\n",
    "else:\n",
    "    print(year, \"is not a leap year\")"
   ]
  },
  {
   "cell_type": "code",
   "execution_count": 7,
   "id": "080a8e18",
   "metadata": {},
   "outputs": [
    {
     "name": "stdout",
     "output_type": "stream",
     "text": [
      "Enter an email id: frido@gmail.com\n",
      "It is a gmail id\n"
     ]
    }
   ],
   "source": [
    "#7. Python Program to check if an email id is a gmail id or not:\n",
    "email = input(\"Enter an email id: \")\n",
    "if \"@gmail.com\" in email:\n",
    "    print(\"It is a gmail id\")\n",
    "else:\n",
    "    print(\"It is not a gmail id\")\n",
    "    "
   ]
  },
  {
   "cell_type": "code",
   "execution_count": 8,
   "id": "1646c3af",
   "metadata": {},
   "outputs": [
    {
     "name": "stdout",
     "output_type": "stream",
     "text": [
      "Enter an email id: frido@yahoo.com\n",
      "It is yahoo domain email ID\n"
     ]
    }
   ],
   "source": [
    "#8. Python Program to find the domain of an email id:\n",
    "email = input(\"Enter an email id: \")\n",
    "if \"@yahoo.com\" in email:\n",
    "    print(\"It is yahoo domain email ID\")\n",
    "elif \"@gmail.com\" in email:\n",
    "    print(\"It is gmail domain email ID\")\n",
    "else:\n",
    "    print(\"It is another domain email ID\")\n",
    "    "
   ]
  },
  {
   "cell_type": "code",
   "execution_count": 10,
   "id": "5c7b06c8",
   "metadata": {},
   "outputs": [
    {
     "name": "stdout",
     "output_type": "stream",
     "text": [
      "Enter a string: hetvis\n",
      "yes\n"
     ]
    }
   ],
   "source": [
    "#9. Python Program to print a string only if it contains more than 5 characters:\n",
    "string = input(\"Enter a string: \")\n",
    "if len(string) > 5:\n",
    "    print(\"yes\")\n",
    "else:\n",
    "    print(\"Not a 5 character string!\")"
   ]
  },
  {
   "cell_type": "code",
   "execution_count": 11,
   "id": "82a0376b",
   "metadata": {},
   "outputs": [
    {
     "name": "stdout",
     "output_type": "stream",
     "text": [
      "Enter the value of first operand: 25\n",
      "Enter the value of second operand: 35\n",
      "Enter the Operator: +\n",
      "Answer of addition of 25 and 35 is: 60\n"
     ]
    }
   ],
   "source": [
    "#10. Python Program to build a calculator based on the operators and the operands given:\n",
    "operand1 = int(input(\"Enter the value of first operand: \"))\n",
    "operand2 = int(input(\"Enter the value of second operand: \"))\n",
    "operator = input(\"Enter the Operator: \")\n",
    "if operator == '+':\n",
    "    print(\"Answer of addition of\", operand1, \"and\", operand2, \"is:\", operand1 + operand2)\n",
    "elif operator == '-':\n",
    "    print(\"Answer of subtraction of\", operand1, \"and\", operand2, \"is:\", operand1 - operand2)\n",
    "elif operator == '*':\n",
    "    print(\"Answer of multiplication of\", operand1, \"and\", operand2, \"is:\", operand1 * operand2)\n",
    "elif operator == '/':\n",
    "    print(\"Answer of division of\", operand1, \"and\", operand2, \"is:\", operand1 / operand2)\n",
    "elif operator == '//':\n",
    "    print(\"Answer of floor division of\", operand1, \"and\", operand2, \"is:\", operand1 // operand2)\n",
    "elif operator == '%':\n",
    "    print(\"Answer of modulo of\", operand1, \"and\", operand2, \"is:\", operand1 % operand2)\n",
    "else:\n",
    "    print(\"Invalid Operator\")"
   ]
  },
  {
   "cell_type": "code",
   "execution_count": 13,
   "id": "73092fbb",
   "metadata": {},
   "outputs": [
    {
     "name": "stdout",
     "output_type": "stream",
     "text": [
      "Enter the statement: hey my name is hetvi\n",
      "Enter the word to search: hetvi\n",
      "Match found!\n"
     ]
    }
   ],
   "source": [
    "#11. Python Program to check if a word is present in a sentence:\n",
    "str1 = input(\"Enter the statement: \")\n",
    "word = input(\"Enter the word to search: \")\n",
    "if word in str1.split():\n",
    "    print(\"Match found!\")\n",
    "else:\n",
    "    print(\"Match not found!\")"
   ]
  },
  {
   "cell_type": "code",
   "execution_count": 14,
   "id": "247688f3",
   "metadata": {},
   "outputs": [
    {
     "name": "stdout",
     "output_type": "stream",
     "text": [
      "Enter the number: 70\n",
      "Yes, it's divisible by 7 and multiples of 5\n"
     ]
    }
   ],
   "source": [
    "#12. Python Program to check if a number is divisible by 7 and multiples of 5 or not:\n",
    "num = int(input(\"Enter the number: \"))\n",
    "if num % 7 == 0 and num % 5 == 0:\n",
    "    print(\"Yes, it's divisible by 7 and multiples of 5\")\n",
    "else:\n",
    "    print(\"No, it's not divisible by 7 and multiples of 5\")"
   ]
  },
  {
   "cell_type": "code",
   "execution_count": 16,
   "id": "d06f7c81",
   "metadata": {},
   "outputs": [
    {
     "name": "stdout",
     "output_type": "stream",
     "text": [
      "Input a letter of the alphabet: h\n",
      "h is a consonant\n"
     ]
    }
   ],
   "source": [
    "#13. Python Program to check whether an alphabet is a vowel or consonant:\n",
    "str1 = input(\"Input a letter of the alphabet: \")\n",
    "if str1.lower() in ['a', 'e', 'i', 'o', 'u']:\n",
    "    print(str1, \"is a vowel\")\n",
    "else:\n",
    "    print(str1, \"is a consonant\")"
   ]
  },
  {
   "cell_type": "code",
   "execution_count": 17,
   "id": "b6b6faa8",
   "metadata": {},
   "outputs": [
    {
     "name": "stdout",
     "output_type": "stream",
     "text": [
      "Enter the first number: 15\n",
      "Enter the second number: 20\n",
      "35\n"
     ]
    }
   ],
   "source": [
    "#14. Python Program to sum two integers, if the sum is between 15 and 20, it prints 20:\n",
    "num1 = int(input(\"Enter the first number: \"))\n",
    "num2 = int(input(\"Enter the second number: \"))\n",
    "sum = num1 + num2\n",
    "if sum >= 15 and sum <= 20:\n",
    "    print(20)\n",
    "else:\n",
    "    print(sum)"
   ]
  },
  {
   "cell_type": "code",
   "execution_count": 19,
   "id": "3d545248",
   "metadata": {},
   "outputs": [
    {
     "name": "stdout",
     "output_type": "stream",
     "text": [
      "Input length of the first side: 10\n",
      "Input length of the second side: 10\n",
      "Input length of the third side: 10\n",
      "Equilateral triangle\n"
     ]
    }
   ],
   "source": [
    "#15. Python Program to check if a triangle is equilateral, isosceles, or scalene:\n",
    "x = int(input(\"Input length of the first side: \"))\n",
    "y = int(input(\"Input length of the second side: \"))\n",
    "z = int(input(\"Input length of the third side: \"))\n",
    "\n",
    "if x == y == z:\n",
    "    print(\"Equilateral triangle\")\n",
    "elif x != y != z:\n",
    "    print(\"Scalene triangle\")\n",
    "else:\n",
    "    print(\"Isosceles triangle\")"
   ]
  },
  {
   "cell_type": "code",
   "execution_count": 22,
   "id": "4cabd704",
   "metadata": {},
   "outputs": [
    {
     "name": "stdout",
     "output_type": "stream",
     "text": [
      "Input birthday: 29\n",
      "Input month of birth: october\n",
      "Your Astrological sign is : Scorpio\n"
     ]
    }
   ],
   "source": [
    "#16. Python Program to display the astrological sign for a given date of birth:\n",
    "day = int(input(\"Input birthday: \"))\n",
    "month = input(\"Input month of birth: \")\n",
    "\n",
    "if (month.lower() == 'december' and day >= 22) or (month.lower() == 'january' and day <= 19):\n",
    "    print(\"Your Astrological sign is : Capricorn\")\n",
    "elif (month.lower() == 'january' and day >= 20) or (month.lower() == 'february' and day <= 18):\n",
    "    print(\"Your Astrological sign is : Aquarius\")\n",
    "elif (month.lower() == 'february' and day >= 19) or (month.lower() == 'march' and day <= 20):\n",
    "    print(\"Your Astrological sign is : Pisces\")\n",
    "elif (month.lower() == 'march' and day >= 21) or (month.lower() == 'april' and day <= 19):\n",
    "    print(\"Your Astrological sign is : Aries\")\n",
    "elif (month.lower() == 'april' and day >= 20) or (month.lower() == 'may' and day <= 20):\n",
    "    print(\"Your Astrological sign is : Taurus\")\n",
    "elif (month.lower() == 'may' and day >= 21) or (month.lower() == 'june' and day <= 20):\n",
    "    print(\"Your Astrological sign is : Gemini\")\n",
    "elif (month.lower() == 'june' and day >= 21) or (month.lower() == 'july' and day <= 22):\n",
    "    print(\"Your Astrological sign is : Cancer\")\n",
    "elif (month.lower() == 'july' and day >= 23) or (month.lower() == 'august' and day <= 22):\n",
    "    print(\"Your Astrological sign is : Leo\")\n",
    "elif (month.lower() == 'august' and day >= 23) or (month.lower() == 'september' and day <= 22):\n",
    "    print(\"Your Astrological sign is : Virgo\")\n",
    "elif (month.lower() == 'september' and day >= 23) or (month.lower() == 'october' and day <= 22):\n",
    "    print(\"Your Astrological sign is : Libra\")\n",
    "elif (month.lower() == 'october' and day >= 23) or (month.lower() == 'november' and day <= 21):\n",
    "    print(\"Your Astrological sign is : Scorpio\")\n",
    "elif (month.lower() == 'november' and day >= 22) or (month.lower() == 'december' and day <= 21):\n",
    "    print(\"Your Astrological sign is : Sagittarius\")\n",
    "    "
   ]
  },
  {
   "cell_type": "code",
   "execution_count": 23,
   "id": "7bf6d77e",
   "metadata": {},
   "outputs": [
    {
     "name": "stdout",
     "output_type": "stream",
     "text": [
      "Input first number: 3\n",
      "Input second number: 4\n",
      "Input third number: 5\n",
      "The median is 4.0\n"
     ]
    }
   ],
   "source": [
    "#17. Python Program to find the median of three values:\n",
    "num1 = float(input(\"Input first number: \"))\n",
    "num2 = float(input(\"Input second number: \"))\n",
    "num3 = float(input(\"Input third number: \"))\n",
    "\n",
    "median = sorted([num1, num2, num3])[1]\n",
    "print(\"The median is\", median)"
   ]
  },
  {
   "cell_type": "code",
   "execution_count": 24,
   "id": "0d0adc34",
   "metadata": {},
   "outputs": [
    {
     "name": "stdout",
     "output_type": "stream",
     "text": [
      "Enter Salary: 10000\n",
      "Enter Years of Service: 4\n",
      "Sorry, you are not eligible for bonus!\n"
     ]
    }
   ],
   "source": [
    "#18. Python Program to calculate bonus based on years of service:\n",
    "salary = int(input(\"Enter Salary: \"))\n",
    "years = int(input(\"Enter Years of Service: \"))\n",
    "\n",
    "if years > 5:\n",
    "    bonus = salary * 0.05\n",
    "    print(\"Bonus is:\", bonus)\n",
    "else:\n",
    "    print(\"Sorry, you are not eligible for bonus!\")"
   ]
  },
  {
   "cell_type": "code",
   "execution_count": 25,
   "id": "7ce6cbf1",
   "metadata": {},
   "outputs": [
    {
     "name": "stdout",
     "output_type": "stream",
     "text": [
      "Enter marks: 78\n",
      "Grade: B\n"
     ]
    }
   ],
   "source": [
    "#19. Python Program to grade based on marks:\n",
    "marks = int(input(\"Enter marks: \"))\n",
    "\n",
    "if marks < 25:\n",
    "    print(\"Grade: F\")\n",
    "elif marks >= 25 and marks < 45:\n",
    "    print(\"Grade: E\")\n",
    "elif marks >= 45 and marks < 50:\n",
    "    print(\"Grade: D\")\n",
    "elif marks >= 50 and marks < 60:\n",
    "    print(\"Grade: C\")\n",
    "elif marks >= 60 and marks < 80:\n",
    "    print(\"Grade: B\")\n",
    "else:\n",
    "    print(\"Grade: A\")"
   ]
  },
  {
   "cell_type": "code",
   "execution_count": 26,
   "id": "7d447fef",
   "metadata": {},
   "outputs": [
    {
     "name": "stdout",
     "output_type": "stream",
     "text": [
      "Enter a number: -50\n",
      "Absolute value of -50 is: 50\n"
     ]
    }
   ],
   "source": [
    "#20. Python Program to print absolute value of a number:\n",
    "number = int(input(\"Enter a number: \"))\n",
    "print(\"Absolute value of\", number, \"is:\", abs(number))"
   ]
  },
  {
   "cell_type": "code",
   "execution_count": 27,
   "id": "6a7e6c27",
   "metadata": {},
   "outputs": [
    {
     "name": "stdout",
     "output_type": "stream",
     "text": [
      "Number of classes held: 70\n",
      "Number of classes attended: 58\n",
      "Percentage of class attended: 82.85714285714286\n",
      "Student is allowed to sit in exam\n"
     ]
    }
   ],
   "source": [
    "#21. Python Program to check if a student is allowed to sit in exam based on attendance:\n",
    "held = int(input(\"Number of classes held: \"))\n",
    "attended = int(input(\"Number of classes attended: \"))\n",
    "\n",
    "attendance = (attended / held) * 100\n",
    "print(\"Percentage of class attended:\", attendance)\n",
    "\n",
    "if attendance >= 75:\n",
    "    print(\"Student is allowed to sit in exam\")\n",
    "else:\n",
    "    print(\"Student is not allowed to sit in exam\")"
   ]
  },
  {
   "cell_type": "code",
   "execution_count": 28,
   "id": "f99cce58",
   "metadata": {},
   "outputs": [
    {
     "name": "stdout",
     "output_type": "stream",
     "text": [
      "Enter length of rectangle: 10\n",
      "Enter breadth of rectangle: 15\n",
      "It's not a square\n"
     ]
    }
   ],
   "source": [
    "#22. Python Program to check if a rectangle is square or not:\n",
    "length = float(input(\"Enter length of rectangle: \"))\n",
    "breadth = float(input(\"Enter breadth of rectangle: \"))\n",
    "\n",
    "if length == breadth:\n",
    "    print(\"It's a square\")\n",
    "else:\n",
    "    print(\"It's not a square\")"
   ]
  },
  {
   "cell_type": "code",
   "execution_count": 29,
   "id": "28b8520f",
   "metadata": {},
   "outputs": [
    {
     "name": "stdout",
     "output_type": "stream",
     "text": [
      "Enter first number: 14\n",
      "Enter second number: 14\n",
      "Both numbers are equal\n"
     ]
    }
   ],
   "source": [
    "#23. Python Program to print greatest among two integers:\n",
    "num1 = int(input(\"Enter first number: \"))\n",
    "num2 = int(input(\"Enter second number: \"))\n",
    "\n",
    "if num1 > num2:\n",
    "    print(num1, \"is greater\")\n",
    "elif num2 > num1:\n",
    "    print(num2, \"is greater\")\n",
    "else:\n",
    "    print(\"Both numbers are equal\")"
   ]
  },
  {
   "cell_type": "code",
   "execution_count": 30,
   "id": "54979490",
   "metadata": {},
   "outputs": [
    {
     "name": "stdout",
     "output_type": "stream",
     "text": [
      "Enter age of first person: 10\n",
      "Enter age of second person: 20\n",
      "Enter age of third person: 30\n",
      "Oldest person is 30 years old\n",
      "Youngest person is 10 years old\n"
     ]
    }
   ],
   "source": [
    "#24. Python Program to determine oldest and youngest among three people based on their age:\n",
    "age1 = int(input(\"Enter age of first person: \"))\n",
    "age2 = int(input(\"Enter age of second person: \"))\n",
    "age3 = int(input(\"Enter age of third person: \"))\n",
    "\n",
    "oldest = max(age1, age2, age3)\n",
    "youngest = min(age1, age2, age3)\n",
    "\n",
    "print(\"Oldest person is\", oldest, \"years old\")\n",
    "print(\"Youngest person is\", youngest, \"years old\")"
   ]
  },
  {
   "cell_type": "code",
   "execution_count": 31,
   "id": "c08b4eef",
   "metadata": {},
   "outputs": [
    {
     "name": "stdout",
     "output_type": "stream",
     "text": [
      "Enter a number: 34\n",
      "Bye\n"
     ]
    }
   ],
   "source": [
    "#25. Python Program to print \"Hello\" if a number entered by user is divisible by 7, otherwise print \"Bye\":\n",
    "number = int(input(\"Enter a number: \"))\n",
    "\n",
    "if number % 7 == 0:\n",
    "    print(\"Hello\")\n",
    "else:\n",
    "    print(\"Bye\")"
   ]
  }
 ],
 "metadata": {
  "kernelspec": {
   "display_name": "Python 3 (ipykernel)",
   "language": "python",
   "name": "python3"
  },
  "language_info": {
   "codemirror_mode": {
    "name": "ipython",
    "version": 3
   },
   "file_extension": ".py",
   "mimetype": "text/x-python",
   "name": "python",
   "nbconvert_exporter": "python",
   "pygments_lexer": "ipython3",
   "version": "3.11.3"
  }
 },
 "nbformat": 4,
 "nbformat_minor": 5
}
