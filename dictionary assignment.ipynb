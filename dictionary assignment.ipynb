{
 "cells": [
  {
   "cell_type": "code",
   "execution_count": 1,
   "id": "bd95e881",
   "metadata": {},
   "outputs": [
    {
     "name": "stdout",
     "output_type": "stream",
     "text": [
      "Ascending {1: 10, 2: 20, 3: 30}\n",
      "Descending {3: 30, 2: 20, 1: 10}\n"
     ]
    }
   ],
   "source": [
    "#Q-1. Write a Python script to sort (ascending and descending) a dictionary by value.\n",
    "dict1 = {3: 30, 1: 10, 2: 20}\n",
    "sort_asc = dict(sorted(dict1.items(), key=lambda x: x[1]))\n",
    "sort_desc = dict(sorted(dict1.items(), key=lambda x: x[1], reverse=True))\n",
    "print(\"Ascending\", sort_asc)\n",
    "print(\"Descending\", sort_desc)\n"
   ]
  },
  {
   "cell_type": "code",
   "execution_count": 2,
   "id": "a126b1bf",
   "metadata": {},
   "outputs": [
    {
     "name": "stdout",
     "output_type": "stream",
     "text": [
      "{3: 30, 1: 10, 2: 30}\n"
     ]
    }
   ],
   "source": [
    "#Q-2. Write a Python script to add a key to a dictionary.\n",
    "dict1[2] = 30\n",
    "print(dict1)"
   ]
  },
  {
   "cell_type": "code",
   "execution_count": 3,
   "id": "ac219668",
   "metadata": {},
   "outputs": [
    {
     "name": "stdout",
     "output_type": "stream",
     "text": [
      "{1: 10, 2: 20, 3: 30, 4: 40, 5: 50, 6: 60}\n"
     ]
    }
   ],
   "source": [
    "#Q-3. Write a Python script to concatenate the following dictionaries to create a new one.\n",
    "dic1 = {1: 10, 2: 20}\n",
    "dic2 = {3: 30, 4: 40}\n",
    "dic3 = {5: 50, 6: 60}\n",
    "concat = {**dic1, **dic2, **dic3}\n",
    "print(concat)"
   ]
  },
  {
   "cell_type": "code",
   "execution_count": 4,
   "id": "f796c2e6",
   "metadata": {},
   "outputs": [
    {
     "name": "stdout",
     "output_type": "stream",
     "text": [
      "2 : 30\n"
     ]
    }
   ],
   "source": [
    "#Q-4. Write a Python script to check whether a given key already exists in a dictionary.If exists then print the value corresponding to that key else print \"key not found\" error message.(Use: Try..Except block)\n",
    "key = 2\n",
    "try:\n",
    "    value = dict1[key]\n",
    "    print(key, \":\", value)\n",
    "except KeyError:\n",
    "    print(\"Key not found\")"
   ]
  },
  {
   "cell_type": "code",
   "execution_count": 1,
   "id": "3a091760",
   "metadata": {},
   "outputs": [
    {
     "name": "stdout",
     "output_type": "stream",
     "text": [
      "enter a number5\n",
      "{1: 1, 2: 8, 3: 27, 4: 64, 5: 125}\n"
     ]
    }
   ],
   "source": [
    "#Q-5. Write a Python script to generate and print a dictionary that contains a number (between 1 and n) in the form (x, x^3). Take n from user\n",
    "n = int(input('enter a number'))\n",
    "cube = {i: i ** 3 for i in range(1, n + 1)}\n",
    "print(cube)\n"
   ]
  },
  {
   "cell_type": "code",
   "execution_count": 2,
   "id": "1bedd450",
   "metadata": {},
   "outputs": [
    {
     "name": "stdout",
     "output_type": "stream",
     "text": [
      "{1: 1, 2: 4, 3: 9, 4: 16, 5: 25, 6: 36, 7: 49, 8: 64, 9: 81, 10: 100, 11: 121, 12: 144, 13: 169, 14: 196, 15: 225}\n"
     ]
    }
   ],
   "source": [
    "#Q-6. Write a Python script to print a dictionary where the keys are numbers between 1 and 15 (both included) and the values are the square of the keys.\n",
    "squares = {i: i ** 2 for i in range(1, 16)}\n",
    "print(squares)"
   ]
  },
  {
   "cell_type": "code",
   "execution_count": 4,
   "id": "ec80745d",
   "metadata": {},
   "outputs": [
    {
     "name": "stdout",
     "output_type": "stream",
     "text": [
      "{'Ten': 10, 'Twenty': 20, 'Thirty': 30}\n"
     ]
    }
   ],
   "source": [
    "#Q-7. Convert two lists into a dictionary\n",
    "keys = ['Ten', 'Twenty', 'Thirty']\n",
    "values = [10, 20, 30]\n",
    "combined = dict(zip(keys, values))\n",
    "print(combined)"
   ]
  },
  {
   "cell_type": "code",
   "execution_count": 3,
   "id": "aa36ffe4",
   "metadata": {},
   "outputs": [
    {
     "name": "stdout",
     "output_type": "stream",
     "text": [
      "{'Ten': 10, 'Twenty': 20, 'Thirty': 30, 'Fourty': 40, 'Fifty': 50}\n"
     ]
    }
   ],
   "source": [
    "#Q-8. Merge two Python dictionaries into one\n",
    "dict1 = {'Ten': 10, 'Twenty': 20, 'Thirty': 30}\n",
    "dict2 = {'Thirty': 30, 'Fourty': 40, 'Fifty': 50}\n",
    "merged = {**dict1, **dict2}\n",
    "print(merged)"
   ]
  },
  {
   "cell_type": "code",
   "execution_count": 5,
   "id": "b0e842e7",
   "metadata": {},
   "outputs": [
    {
     "name": "stdout",
     "output_type": "stream",
     "text": [
      "{'age': 25, 'city': 'New york'}\n"
     ]
    }
   ],
   "source": [
    "#Q-9. Delete a list of keys from a dictionary\n",
    "s = {\"name\": \"Kelly\", \"age\": 25, \"salary\": 8000, \"city\": \"New york\"}\n",
    "remove = [\"name\", \"salary\"]\n",
    "for key in remove:\n",
    "    s.pop(key, None)\n",
    "print(s)\n"
   ]
  },
  {
   "cell_type": "code",
   "execution_count": 6,
   "id": "880092e7",
   "metadata": {},
   "outputs": [
    {
     "name": "stdout",
     "output_type": "stream",
     "text": [
      "{'name': 'Kelly', 'age': 25, 'salary': 8000, 'location': 'New york'}\n"
     ]
    }
   ],
   "source": [
    "#Q-10. Rename key of a dictionary Write a program to rename a key city to a location in the following dictionary.\n",
    "s = {\"name\": \"Kelly\", \"age\": 25, \"salary\": 8000, \"city\": \"New york\"}\n",
    "s[\"location\"] = s.pop(\"city\")\n",
    "print(s)"
   ]
  },
  {
   "cell_type": "code",
   "execution_count": 7,
   "id": "9cb7cfde",
   "metadata": {},
   "outputs": [
    {
     "name": "stdout",
     "output_type": "stream",
     "text": [
      "Math\n"
     ]
    }
   ],
   "source": [
    "#Q-11. Get the key of a minimum value from the following dictionary\n",
    "s2 = {'Physics': 82, 'Math': 65, 'History': 75}\n",
    "min_key = min(s2, key=s2.get)\n",
    "print(min_key)"
   ]
  },
  {
   "cell_type": "code",
   "execution_count": 8,
   "id": "196101dc",
   "metadata": {},
   "outputs": [
    {
     "name": "stdout",
     "output_type": "stream",
     "text": [
      "{'emp1': {'name': 'Jhon', 'salary': 7500}, 'emp2': {'name': 'Emma', 'salary': 8000}, 'emp3': {'name': 'Brad', 'salary': 8500}}\n"
     ]
    }
   ],
   "source": [
    "#Q-12. Write a Python program to change Brad’s salary to 8500 in the following dictionary.\n",
    "empl = {'emp1': {'name': 'Jhon', 'salary': 7500},\n",
    "                  'emp2': {'name': 'Emma', 'salary': 8000},\n",
    "                  'emp3': {'name': 'Brad', 'salary': 500}}\n",
    "empl['emp3']['salary'] = 8500\n",
    "print(empl)"
   ]
  },
  {
   "cell_type": "code",
   "execution_count": 9,
   "id": "3d13a767",
   "metadata": {},
   "outputs": [
    {
     "name": "stdout",
     "output_type": "stream",
     "text": [
      "80\n"
     ]
    }
   ],
   "source": [
    "#Q-13. Print the value of key ‘history’ from the below dict.\n",
    " \n",
    "s = {\"class\": {\"student\": {\"name\": \"Mike\", \"marks\": {\"physics\": 70, \"history\": 80}}}}\n",
    "value = s['class']['student']['marks']['history']\n",
    "print(value)"
   ]
  },
  {
   "cell_type": "code",
   "execution_count": 12,
   "id": "801d96cb",
   "metadata": {},
   "outputs": [
    {
     "name": "stdout",
     "output_type": "stream",
     "text": [
      "{'S001', 'S009', 'S002', 'S007', 'S005'}\n"
     ]
    }
   ],
   "source": [
    "#Q-15. Write a Python program to print all distinct values in a dictionary.\n",
    "s1 = [{\"V\": \"S001\"}, {\"V\": \"S002\"}, {\"VI\": \"S001\"}, {\"VI\": \"S005\"},\n",
    "               {\"VII\": \"S005\"}, {\"V\": \"S009\"}, {\"VIII\": \"S007\"}]\n",
    "a1 = {i for d in s1 for i in d.values()}\n",
    "print(a1)"
   ]
  },
  {
   "cell_type": "code",
   "execution_count": 5,
   "id": "e76a6a1e",
   "metadata": {},
   "outputs": [
    {
     "name": "stdout",
     "output_type": "stream",
     "text": [
      "{'item1': 1150, 'item2': 300}\n"
     ]
    }
   ],
   "source": [
    "#Q-16. Write a Python program to combine values in a list of dictionaries.\n",
    "s= [{'item': 'item1', 'amount': 400}, {'item': 'item2', 'amount': 300},\n",
    "               {'item': 'item1', 'amount': 750}]\n",
    "c = {}\n",
    "for i in s:\n",
    "    c[i['item']] = c.get(i['item'], 0) + i['amount']\n",
    "print(c)"
   ]
  }
 ],
 "metadata": {
  "kernelspec": {
   "display_name": "Python 3 (ipykernel)",
   "language": "python",
   "name": "python3"
  },
  "language_info": {
   "codemirror_mode": {
    "name": "ipython",
    "version": 3
   },
   "file_extension": ".py",
   "mimetype": "text/x-python",
   "name": "python",
   "nbconvert_exporter": "python",
   "pygments_lexer": "ipython3",
   "version": "3.11.3"
  }
 },
 "nbformat": 4,
 "nbformat_minor": 5
}
