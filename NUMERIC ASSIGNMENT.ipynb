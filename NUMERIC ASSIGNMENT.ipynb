{
 "cells": [
  {
   "cell_type": "code",
   "execution_count": 1,
   "id": "91769f5d",
   "metadata": {},
   "outputs": [
    {
     "data": {
      "text/plain": [
       "25"
      ]
     },
     "execution_count": 1,
     "metadata": {},
     "output_type": "execute_result"
    }
   ],
   "source": [
    "#1. Write a Python function to find the maximum of three numbers from the given list\n",
    "a=(10,23,25)\n",
    "max(a)"
   ]
  },
  {
   "cell_type": "code",
   "execution_count": 2,
   "id": "995f7346",
   "metadata": {},
   "outputs": [
    {
     "data": {
      "text/plain": [
       "20"
      ]
     },
     "execution_count": 2,
     "metadata": {},
     "output_type": "execute_result"
    }
   ],
   "source": [
    "#2. Write a Python function to sum all the numbers in a list.\n",
    "a=(8, 2, 3, 0, 7) \n",
    "sum(a)"
   ]
  },
  {
   "cell_type": "code",
   "execution_count": 3,
   "id": "7769e157",
   "metadata": {},
   "outputs": [
    {
     "name": "stdout",
     "output_type": "stream",
     "text": [
      "-336\n"
     ]
    }
   ],
   "source": [
    "#3. Write a Python function to multiply all the numbers in a list.\n",
    "a=(8, 2, 3, -1, 7) \n",
    "b=(8*2*3*(-1)*7)   \n",
    "print(b)\n"
   ]
  },
  {
   "cell_type": "code",
   "execution_count": null,
   "id": "fbdefb4c",
   "metadata": {},
   "outputs": [],
   "source": [
    "#4. Comment whether the given variables are valid or invalid:\n",
    "age  VALID\n",
    "_age VALID\n",
    "Age VALID\n",
    "Invalid  VALID \n",
    "1age  INVALID\n",
    "Valid  VALID  \n",
    "_age VALID\n",
    "age_ VALID\n",
    "age_* INVALID\n",
    "+age  INVALID\n",
    "age VALID\n",
    "Age1 VALID\n",
    "AGE1  VALID\n",
    "Age2  VALID \n",
    "pass  INVALID\n",
    "break   INVALID\n",
    "continue  INVALID\n",
    "list   INVALID\n",
    "list.  INVALID\n",
    "etc   VALID\n",
    "print INVALID\n",
    "_print  VALID"
   ]
  },
  {
   "cell_type": "code",
   "execution_count": 8,
   "id": "73fefa6b",
   "metadata": {},
   "outputs": [
    {
     "name": "stdout",
     "output_type": "stream",
     "text": [
      "1.0 9.0 11.0 26.0 -1.0 -3.0 4.0 81.25\n"
     ]
    }
   ],
   "source": [
    "#5. Evaluate following expressions:\n",
    "A= 7 - 24 / 8 * 4 + 6 \n",
    "B= 18 / 3 - 7 + 2 * 5\n",
    "C= 6 * 4 / 12 + 72 / 8 \n",
    "D= (17 - 6 / 2) + 4 * 3\n",
    "E= -2*(1 * 4 - 2 / 2) + (6 + 2 - 3)\n",
    "F= -1 * ((3 - 4 * 7) / 5) - 2 * 24 / 6\n",
    "G= (3 * 5 **2 / 15) - (5 - 2 ** 2 )\n",
    "H= (22 / 2 - 2.5)** 2 + ( 4 - 6 / 6) ** 2\n",
    "print(A,B,C,D,E,F,G,H)"
   ]
  },
  {
   "cell_type": "code",
   "execution_count": null,
   "id": "0a92bb6e",
   "metadata": {},
   "outputs": [],
   "source": []
  }
 ],
 "metadata": {
  "kernelspec": {
   "display_name": "Python 3 (ipykernel)",
   "language": "python",
   "name": "python3"
  },
  "language_info": {
   "codemirror_mode": {
    "name": "ipython",
    "version": 3
   },
   "file_extension": ".py",
   "mimetype": "text/x-python",
   "name": "python",
   "nbconvert_exporter": "python",
   "pygments_lexer": "ipython3",
   "version": "3.11.3"
  }
 },
 "nbformat": 4,
 "nbformat_minor": 5
}
