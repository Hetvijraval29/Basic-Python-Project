{
 "cells": [
  {
   "cell_type": "code",
   "execution_count": 2,
   "id": "b258d159",
   "metadata": {},
   "outputs": [
    {
     "name": "stdout",
     "output_type": "stream",
     "text": [
      "resta$t\n"
     ]
    }
   ],
   "source": [
    "#1. Write a Python program to get a string from a given string where all occurrences of its first char have been changed to '$', except the first char itself.\n",
    "#Sample String : 'restart'\n",
    "#Expected Result : 'resta$t'\n",
    "\n",
    "#ANSWER\n",
    "sample= 'restart'\n",
    "str= sample.replace('r',\"$\")\n",
    "str= 'r' + str[1:]\n",
    "print(str)"
   ]
  },
  {
   "cell_type": "code",
   "execution_count": 5,
   "id": "a3e208ee",
   "metadata": {},
   "outputs": [
    {
     "name": "stdout",
     "output_type": "stream",
     "text": [
      "Given string 'Hello World' is made of 12 characters\n"
     ]
    }
   ],
   "source": [
    "#2. Write a Python program to calculate the length of a string and print a message.\n",
    "SampleString = 'Hello WOrld!'\n",
    "a=len(SampleString)\n",
    "print(f\"Given string 'Hello World' is made of {a} characters\")"
   ]
  },
  {
   "cell_type": "code",
   "execution_count": 6,
   "id": "b37fe076",
   "metadata": {},
   "outputs": [
    {
     "name": "stdout",
     "output_type": "stream",
     "text": [
      "xyc abz\n"
     ]
    }
   ],
   "source": [
    "#3. Write a Python program to get a single string from two given strings, separated by a space and swap the first two characters of each string.\n",
    "SampleString = 'abc'\n",
    "SampleString1 = 'xyz'\n",
    "_a=SampleString.replace('ab', 'xy')\n",
    "_b=SampleString1.replace('xy', 'ab')\n",
    "a=_a+' '+_b\n",
    "print(a)"
   ]
  },
  {
   "cell_type": "code",
   "execution_count": 7,
   "id": "0878d626",
   "metadata": {},
   "outputs": [
    {
     "name": "stdout",
     "output_type": "stream",
     "text": [
      "playing\n"
     ]
    }
   ],
   "source": [
    "#4. Write a Python program to add 'ing' at the end of a given string\n",
    "a='play'\n",
    "b='ing'\n",
    "c=a+b\n",
    "print(c)"
   ]
  },
  {
   "cell_type": "code",
   "execution_count": 8,
   "id": "2a877243",
   "metadata": {},
   "outputs": [
    {
     "data": {
      "text/plain": [
       "23"
      ]
     },
     "execution_count": 8,
     "metadata": {},
     "output_type": "execute_result"
    }
   ],
   "source": [
    "#5. Write a Python program to find the first appearance of the substrings 'not' and 'poor' in a given string below.\n",
    "String = 'The lyrics is not that poor! It is Pathetic not poor!'\n",
    "a='not'\n",
    "b='poor'\n",
    "String.index(a)\n",
    "String.index(b)"
   ]
  },
  {
   "cell_type": "code",
   "execution_count": null,
   "id": "b08728f8",
   "metadata": {},
   "outputs": [],
   "source": [
    "#6. Write a Python program to remove the nth index character from a nonempty string.\n",
    "\n"
   ]
  },
  {
   "cell_type": "code",
   "execution_count": 9,
   "id": "1ca2d3d0",
   "metadata": {},
   "outputs": [
    {
     "data": {
      "text/plain": [
       "'yonked'"
      ]
     },
     "execution_count": 9,
     "metadata": {},
     "output_type": "execute_result"
    }
   ],
   "source": [
    "#7. Write a Python program to change a given string to a newly string where the first and last chars have been exchanged.\n",
    "a='donkey'\n",
    "a[-1::]+a[1:5:]+a[0]"
   ]
  },
  {
   "cell_type": "code",
   "execution_count": 10,
   "id": "0a0529b0",
   "metadata": {},
   "outputs": [
    {
     "data": {
      "text/plain": [
       "'onononon'"
      ]
     },
     "execution_count": 10,
     "metadata": {},
     "output_type": "execute_result"
    }
   ],
   "source": [
    "#8. Write a Python function to get a string made of 4 copies of the last two characters of a specified string (length must be at least 2).\n",
    "a='Python'\n",
    "b=a[4:6:]\n",
    "b\n",
    "c=b*4\n",
    "c"
   ]
  },
  {
   "cell_type": "code",
   "execution_count": 11,
   "id": "98dc55af",
   "metadata": {},
   "outputs": [
    {
     "data": {
      "text/plain": [
       "'i'"
      ]
     },
     "execution_count": 11,
     "metadata": {},
     "output_type": "execute_result"
    }
   ],
   "source": [
    "#9. Write a Python program to get the last character of string\n",
    "a='Hetvi'\n",
    "a[-1]\n",
    " \n",
    "    "
   ]
  },
  {
   "cell_type": "code",
   "execution_count": 12,
   "id": "5067dc5b",
   "metadata": {},
   "outputs": [
    {
     "data": {
      "text/plain": [
       "'emal'"
      ]
     },
     "execution_count": 12,
     "metadata": {},
     "output_type": "execute_result"
    }
   ],
   "source": [
    "#10. Write a Python function to reverse a string\n",
    "a='lame'\n",
    "a[::-1]"
   ]
  },
  {
   "cell_type": "code",
   "execution_count": 13,
   "id": "d720b6a4",
   "metadata": {},
   "outputs": [
    {
     "data": {
      "text/plain": [
       "'Tushar'"
      ]
     },
     "execution_count": 13,
     "metadata": {},
     "output_type": "execute_result"
    }
   ],
   "source": [
    "#11. Given two strings, s1 and s2. Write a program to create a new string s3 by appending s2 in the middle of s1.\n",
    "S1='Tuar'\n",
    "S2=\"sh\"\n",
    "m=len(S1)//2\n",
    "S3=S1[:m]+S2+S1[m:]\n",
    "S3"
   ]
  },
  {
   "cell_type": "code",
   "execution_count": 14,
   "id": "d003c5f0",
   "metadata": {},
   "outputs": [
    {
     "data": {
      "text/plain": [
       "'AJrpan'"
      ]
     },
     "execution_count": 14,
     "metadata": {},
     "output_type": "execute_result"
    }
   ],
   "source": [
    "#12. Given two strings, s1 and s2, write a program to return a new string made of s1 and s2’s first, middle, and last characters\n",
    "s1='America'\n",
    "s2='Japan'\n",
    "s1[0]+s2[0]+s1[3]+s2[-3::1]\n"
   ]
  },
  {
   "cell_type": "code",
   "execution_count": 15,
   "id": "17f11d11",
   "metadata": {},
   "outputs": [
    {
     "name": "stdout",
     "output_type": "stream",
     "text": [
      "The USA count is: 2\n"
     ]
    }
   ],
   "source": [
    "#13. Write a program to count all occurrences of “USA” in a given string ignoring the case.\n",
    "a=\"Welcome to USA. usa is awesome, isn't it\"\n",
    "a1=a.lower()\n",
    "b='usa'\n",
    "c=a1.count(b)\n",
    "print('The USA count is:',c)\n"
   ]
  },
  {
   "cell_type": "code",
   "execution_count": 18,
   "id": "c2247f7e",
   "metadata": {},
   "outputs": [
    {
     "name": "stdout",
     "output_type": "stream",
     "text": [
      "43\n"
     ]
    }
   ],
   "source": [
    "#14. Write a program to find the last position of a substring “Emma” in a given string. (Hint : use rfind())\n",
    "a=\"Emma is a data scientist who knows Python. Emma works at google.\"\n",
    "b=\"Emma\"\n",
    "c=a.rfind(b)\n",
    "print(c)"
   ]
  },
  {
   "cell_type": "code",
   "execution_count": 19,
   "id": "57404e65",
   "metadata": {},
   "outputs": [
    {
     "data": {
      "text/plain": [
       "13.0"
      ]
     },
     "execution_count": 19,
     "metadata": {},
     "output_type": "execute_result"
    }
   ],
   "source": [
    "#15. Write a Python program to print the following numbers up to 2 decimal places.\n",
    "x =  3.1415926\n",
    "round(x,2)\n",
    "y =  12.9999\n",
    "round(y,2)"
   ]
  },
  {
   "cell_type": "code",
   "execution_count": 20,
   "id": "155845fc",
   "metadata": {},
   "outputs": [
    {
     "data": {
      "text/plain": [
       "'NARAYANA'"
      ]
     },
     "execution_count": 20,
     "metadata": {},
     "output_type": "execute_result"
    }
   ],
   "source": [
    "#16. Write a Python program to remove spaces from a given string and convert it into Uppercase.\n",
    "a='n a r a y a n a'\n",
    "a.replace(' ', '').upper()"
   ]
  },
  {
   "cell_type": "code",
   "execution_count": null,
   "id": "78770e7d",
   "metadata": {},
   "outputs": [],
   "source": []
  }
 ],
 "metadata": {
  "kernelspec": {
   "display_name": "Python 3 (ipykernel)",
   "language": "python",
   "name": "python3"
  },
  "language_info": {
   "codemirror_mode": {
    "name": "ipython",
    "version": 3
   },
   "file_extension": ".py",
   "mimetype": "text/x-python",
   "name": "python",
   "nbconvert_exporter": "python",
   "pygments_lexer": "ipython3",
   "version": "3.11.3"
  }
 },
 "nbformat": 4,
 "nbformat_minor": 5
}
