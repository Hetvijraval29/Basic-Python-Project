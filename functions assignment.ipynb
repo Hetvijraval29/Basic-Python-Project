{
 "cells": [
  {
   "cell_type": "code",
   "execution_count": null,
   "id": "bc7092d8",
   "metadata": {},
   "outputs": [],
   "source": [
    "#Q -1.Write a program that asks the user for two numbers. Then ask them if they would like to add, subtract, divide, or multiply these numbers. Perform the chosen operation on the values, showing the operation being performed. Write four functions, one for each mathematical operation.\n",
    "def calculations(number1,number2):\n",
    "    add=number1+number2\n",
    "    sub=number1-number2\n",
    "    multiply=number1*number2\n",
    "    divide=number1/number2\n",
    "    return add if '+' \n",
    "    "
   ]
  },
  {
   "cell_type": "code",
   "execution_count": 1,
   "id": "e3749b69",
   "metadata": {},
   "outputs": [
    {
     "name": "stdout",
     "output_type": "stream",
     "text": [
      "Enter the first number: 10\n",
      "Enter the second number: 15\n",
      "Choose an operation (+, -, *, /): /\n",
      "Result of 10.0 / 15.0 is 0.6666666666666666\n"
     ]
    }
   ],
   "source": [
    "def add(number1, number2):\n",
    "    return number1 + number2\n",
    "\n",
    "def subtract(number1, number2):\n",
    "    return number1 - number2\n",
    "\n",
    "def multiply(number1, number2):\n",
    "    return number1 * number2\n",
    "\n",
    "def divide(number1, number2):\n",
    "    return number1 / number2\n",
    "\n",
    "def calculations(number1, number2, operation):\n",
    "    if operation == '+':\n",
    "        return add(number1, number2)\n",
    "    elif operation == '-':\n",
    "        return subtract(number1, number2)\n",
    "    elif operation == '*':\n",
    "        return multiply(number1, number2)\n",
    "    elif operation == '/':\n",
    "        return divide(number1, number2)\n",
    "\n",
    "number1 = float(input(\"Enter the first number: \"))\n",
    "number2 = float(input(\"Enter the second number: \"))\n",
    "operation = input(\"Choose an operation (+, -, *, /): \")\n",
    "\n",
    "result = calculations(number1, number2, operation)\n",
    "print(f\"Result of {number1} {operation} {number2} is {result}\")\n"
   ]
  },
  {
   "cell_type": "code",
   "execution_count": 4,
   "id": "8960fd90",
   "metadata": {},
   "outputs": [
    {
     "data": {
      "text/plain": [
       "'Pride and Prejudice by Jane Austen'"
      ]
     },
     "execution_count": 4,
     "metadata": {},
     "output_type": "execute_result"
    }
   ],
   "source": [
    "#Q-2. Write a function called favorite_book() that accepts two parameter, title and author. The function should print a message, such as \"Ansi C by E Balagurusamy\". Call the function, make sure to include a book title and author as an argument in the function call.\n",
    "\n",
    "def favorite_book(title,author):\n",
    "    book_name=title+' '+'by'+' '+author\n",
    "    return book_name\n",
    "favorite_book('Pride and Prejudice','Jane Austen')"
   ]
  },
  {
   "cell_type": "code",
   "execution_count": 20,
   "id": "2752fea9",
   "metadata": {},
   "outputs": [
    {
     "name": "stdout",
     "output_type": "stream",
     "text": [
      "The entered year is not a year\n"
     ]
    }
   ],
   "source": [
    "#Q-3. Write a function called is_leap() that accepts one parameter i.e. year. The function should check whether the year is a leap year or not.\n",
    " \n",
    "def leap(year):\n",
    "    is_leap_year=int()\n",
    "    if is_leap_year==366:\n",
    "        print('The entered year is a leap year')\n",
    "    elif is_leap_year==365:\n",
    "        print('The entered year is not a leap year')\n",
    "    else:\n",
    "        print('The entered year is not a year')\n",
    "leap(366)\n",
    "    "
   ]
  },
  {
   "cell_type": "code",
   "execution_count": 11,
   "id": "0877f47d",
   "metadata": {},
   "outputs": [
    {
     "data": {
      "text/plain": [
       "90"
      ]
     },
     "execution_count": 11,
     "metadata": {},
     "output_type": "execute_result"
    }
   ],
   "source": [
    "#Q-4. Write a Python function to find the maximum of three numbers\n",
    "def maximum(num1,num2,num3):\n",
    "    max_of_3=max(num1,num2,num3)\n",
    "    return max_of_3\n",
    "maximum(55,90,10)"
   ]
  },
  {
   "cell_type": "code",
   "execution_count": 16,
   "id": "95761835",
   "metadata": {},
   "outputs": [
    {
     "data": {
      "text/plain": [
       "31280000"
      ]
     },
     "execution_count": 16,
     "metadata": {},
     "output_type": "execute_result"
    }
   ],
   "source": [
    "#Q-5. Write a Python function to multiply all the numbers in a list\n",
    "def multiplier(*number):\n",
    "    output=1\n",
    "    for i in number:\n",
    "        output*=i\n",
    "    return output\n",
    "multiplier(2,4,10,-34,500,-23)"
   ]
  },
  {
   "cell_type": "code",
   "execution_count": 21,
   "id": "8909f17d",
   "metadata": {},
   "outputs": [
    {
     "data": {
      "text/plain": [
       "<reversed at 0x1e763bd5e10>"
      ]
     },
     "execution_count": 21,
     "metadata": {},
     "output_type": "execute_result"
    }
   ],
   "source": [
    "#Q-6. Write a Python program to reverse a string.\n",
    "def reverse(string):\n",
    "    string1=reversed(string)\n",
    "    return string1\n",
    "reverse('12345abcde')"
   ]
  },
  {
   "cell_type": "code",
   "execution_count": 22,
   "id": "d2dd9f03",
   "metadata": {},
   "outputs": [
    {
     "data": {
      "text/plain": [
       "'edcba54321'"
      ]
     },
     "execution_count": 22,
     "metadata": {},
     "output_type": "execute_result"
    }
   ],
   "source": [
    "#Q-6. Write a Python program to reverse a string.\n",
    "def reverse(string):\n",
    "    return(string[::-1])\n",
    "reverse('12345abcde')"
   ]
  },
  {
   "cell_type": "code",
   "execution_count": 25,
   "id": "590989cb",
   "metadata": {},
   "outputs": [
    {
     "data": {
      "text/plain": [
       "3628800"
      ]
     },
     "execution_count": 25,
     "metadata": {},
     "output_type": "execute_result"
    }
   ],
   "source": [
    "#Q-7. Write a Python function to calculate the factorial of a number (a non-negative integer). The function accepts the number as an argument.\n",
    "def factorial(number):\n",
    "    output=1\n",
    "    for i in range(1,number+1):\n",
    "        output*=i\n",
    "    return output\n",
    "factorial(10)"
   ]
  },
  {
   "cell_type": "code",
   "execution_count": 1,
   "id": "100bea07",
   "metadata": {},
   "outputs": [
    {
     "data": {
      "text/plain": [
       "(3, 18)"
      ]
     },
     "execution_count": 1,
     "metadata": {},
     "output_type": "execute_result"
    }
   ],
   "source": [
    "#Q-8. Write a Python function that accepts a string and counts the number of upper and lower case letters.\n",
    "def count_ul(string):\n",
    "    upper = 0\n",
    "    lower = 0\n",
    "    for i in string:\n",
    "        if i.isupper():\n",
    "            upper += 1\n",
    "        elif i.islower():\n",
    "            lower += 1\n",
    "    return upper, lower\n",
    "count_ul('Hey my name is Hetvi Raval')"
   ]
  },
  {
   "cell_type": "code",
   "execution_count": 3,
   "id": "e3961738",
   "metadata": {},
   "outputs": [
    {
     "name": "stdout",
     "output_type": "stream",
     "text": [
      "[1, 5, 5, 5, 6, 7, 8, 9, 9, 9, 10, 2, 2, 3, 4, 5, 4, 3, 2, 1]\n",
      "[1, 2, 3, 4, 5, 6, 7, 8, 9, 10]\n"
     ]
    }
   ],
   "source": [
    "#Q-9. Write a Python function that takes a list and returns a new list with distinct elements from the first list.\n",
    "def dist(list1):\n",
    "    return list(set(list1))\n",
    "list1 = [1,5,5,5,6,7,8,9,9,9,10,2,2,3,4,5,4,3,2,1]\n",
    "list2 = dist(list1)\n",
    "print(list1)\n",
    "print(list2)\n"
   ]
  },
  {
   "cell_type": "code",
   "execution_count": 6,
   "id": "5d9e8f56",
   "metadata": {},
   "outputs": [],
   "source": [
    "#Q-10. Write a Python program to print the even numbers from a given list.\n",
    "def even(list1):\n",
    "    for i in list1:\n",
    "        if 1 % 2 == 0:\n",
    "            print(1)\n",
    "list1=[1,2,3,4,5,6,7,8,9,10]"
   ]
  },
  {
   "cell_type": "code",
   "execution_count": 8,
   "id": "74b1544b",
   "metadata": {},
   "outputs": [
    {
     "name": "stdout",
     "output_type": "stream",
     "text": [
      "The string is a palindrome.\n"
     ]
    }
   ],
   "source": [
    "#Q-11. Write a Python function that checks whether a passed string is a palindrome or not.\n",
    "#Note: A palindrome is a word, phrase, or sequence that reads the same backward as forward, e.g., madam or nurses run.\n",
    "def palindrome(str1):\n",
    "    str2 = str1[::-1]\n",
    "    return str1 == str2\n",
    "str1 = \"madam\"\n",
    "if palindrome(str1):\n",
    "    print(\"The string is a palindrome.\")\n",
    "else:\n",
    "    print(\"The string is not a palindrome.\")\n"
   ]
  },
  {
   "cell_type": "code",
   "execution_count": null,
   "id": "a76c9952",
   "metadata": {},
   "outputs": [],
   "source": [
    "#Q-12. Write a Python function to check whether a string is a pangram or not.\n",
    "#Note : Pangrams are words or sentences containing every letter of the alphabet at least once.\n"
   ]
  },
  {
   "cell_type": "code",
   "execution_count": 9,
   "id": "b76935c5",
   "metadata": {},
   "outputs": [
    {
     "name": "stdout",
     "output_type": "stream",
     "text": [
      "black-green-red-white-yellow\n"
     ]
    }
   ],
   "source": [
    "#Q-13. Write a Python program that accepts a hyphen-separated sequence of words as input and prints the words in a hyphen-separated sequence after sorting them alphabetically.\n",
    "#Sample Items : green-red-yellow-black-white\n",
    "#Expected Result : black-green-red-white-yellow\n",
    "def hyphen(str1):\n",
    "    a = str1.split('-')\n",
    "    b = sorted(a)\n",
    "    return '-'.join(b)\n",
    "x = \"green-red-yellow-black-white\"\n",
    "y = hyphen(x)\n",
    "print(y)\n"
   ]
  },
  {
   "cell_type": "code",
   "execution_count": 13,
   "id": "9f652382",
   "metadata": {},
   "outputs": [
    {
     "name": "stdout",
     "output_type": "stream",
     "text": [
      "[1, 4, 9, 16, 25, 36, 49, 64, 81, 100, 121, 144, 169, 196, 225, 256, 289, 324, 361, 400, 441, 484, 529, 576, 625, 676, 729, 784, 841, 900]\n"
     ]
    }
   ],
   "source": [
    "#Q-14. Write a Python function to create and print a list where the values are the squares of numbers between 1 and 30 (both included).\n",
    "def squares():\n",
    "    return [i ** 2 for i in range(1, 31)]\n",
    "a = squares()\n",
    "print(a)\n"
   ]
  },
  {
   "cell_type": "code",
   "execution_count": 14,
   "id": "7ce1ed09",
   "metadata": {},
   "outputs": [
    {
     "name": "stdout",
     "output_type": "stream",
     "text": [
      "A\n",
      "12000\n",
      "B\n",
      "9000\n"
     ]
    }
   ],
   "source": [
    "#Q-15. Write a program to create a function show_employee() using the following conditions.\n",
    "#It should accept the employee’s name and salary and display both.\n",
    "#If the salary is missing in the function call then assign default value 9000 to salary\n",
    "def emp(name, salary=9000):\n",
    "    print(name)\n",
    "    print(salary)\n",
    "emp(\"A\", 12000)\n",
    "emp(\"B\")\n",
    " "
   ]
  },
  {
   "cell_type": "code",
   "execution_count": 15,
   "id": "f7c2d027",
   "metadata": {},
   "outputs": [
    {
     "name": "stdout",
     "output_type": "stream",
     "text": [
      "17 24\n",
      "24 17\n"
     ]
    }
   ],
   "source": [
    "#Q-16. Write a program to swap two numbers.\n",
    "#Before swap : 17 24\n",
    "#After swap : 24 17\n",
    "def swap(a, b):\n",
    "    print(a, b)\n",
    "    a, b = b, a\n",
    "    print(a, b)\n",
    "x, y = 17, 24\n",
    "swap(x, y)\n"
   ]
  }
 ],
 "metadata": {
  "kernelspec": {
   "display_name": "Python 3 (ipykernel)",
   "language": "python",
   "name": "python3"
  },
  "language_info": {
   "codemirror_mode": {
    "name": "ipython",
    "version": 3
   },
   "file_extension": ".py",
   "mimetype": "text/x-python",
   "name": "python",
   "nbconvert_exporter": "python",
   "pygments_lexer": "ipython3",
   "version": "3.11.3"
  }
 },
 "nbformat": 4,
 "nbformat_minor": 5
}
